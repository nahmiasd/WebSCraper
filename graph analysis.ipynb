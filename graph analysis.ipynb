{
 "cells": [
  {
   "cell_type": "code",
   "execution_count": 1,
   "id": "63c838ee",
   "metadata": {},
   "outputs": [],
   "source": [
    "import networkx as nx\n",
    "from tqdm.notebook import tqdm\n",
    "from networkx_query import search_nodes\n",
    "from typing import Iterable,Dict,Optional"
   ]
  },
  {
   "cell_type": "markdown",
   "id": "0a734e52",
   "metadata": {},
   "source": [
    "### Reading the Graph"
   ]
  },
  {
   "cell_type": "code",
   "execution_count": 2,
   "id": "91f6bf3f",
   "metadata": {},
   "outputs": [],
   "source": [
    "G = nx.read_gpickle('output\\out_graph_21_05_2022_17_24.pkl')"
   ]
  },
  {
   "cell_type": "markdown",
   "id": "642fc9ac",
   "metadata": {},
   "source": [
    "### Graph Analysis "
   ]
  },
  {
   "cell_type": "markdown",
   "id": "5e476b08",
   "metadata": {},
   "source": [
    "In order to to modify the PageRank algorithm to favor URLs that contain more email addresses, We will weight the edges according to the number of email addresses in the target node."
   ]
  },
  {
   "cell_type": "code",
   "execution_count": 3,
   "id": "1895da91",
   "metadata": {},
   "outputs": [
    {
     "data": {
      "application/vnd.jupyter.widget-view+json": {
       "model_id": "cd3bc5d8442e41219745a9b694d797e2",
       "version_major": 2,
       "version_minor": 0
      },
      "text/plain": [
       "  0%|          | 0/542658 [00:00<?, ?it/s]"
      ]
     },
     "metadata": {},
     "output_type": "display_data"
    }
   ],
   "source": [
    "for u,v,d in tqdm(G.edges(data=True)):\n",
    "    try:\n",
    "        num_of_emails = (len(G.nodes[v]['emails']))\n",
    "        if num_of_emails == 0:\n",
    "            num_of_emails+=1\n",
    "        d['num_of_emails'] = num_of_emails\n",
    "    except KeyError:\n",
    "        d['num_of_emails'] = 1"
   ]
  },
  {
   "cell_type": "code",
   "execution_count": 4,
   "id": "6fca8477",
   "metadata": {},
   "outputs": [],
   "source": [
    "nx.set_node_attributes(G,nx.algorithms.pagerank(G,weight='num_of_emails'),name='email_weighted_pagerank') #email weighted PageRank"
   ]
  },
  {
   "cell_type": "code",
   "execution_count": 5,
   "id": "e052db18",
   "metadata": {},
   "outputs": [],
   "source": [
    "nx.set_node_attributes(G,nx.algorithms.pagerank(G),name='normal_pagerank')"
   ]
  },
  {
   "cell_type": "markdown",
   "id": "8eba9989",
   "metadata": {},
   "source": [
    "We also have the ability to use any other metric and transform it to a metric that is weighted by the amount of emails in the node. For example, we can weight the in degrees of a specific node.\n",
    "For that porpuse, we can use the function 'set_email_weighted_attribute' which in turn uses the function 'emails_weighted_metric'"
   ]
  },
  {
   "cell_type": "code",
   "execution_count": 6,
   "id": "fd388cc8",
   "metadata": {},
   "outputs": [],
   "source": [
    "nx.set_node_attributes(G,dict(G.in_degree),name='in_degree')\n",
    "nx.set_node_attributes(G,dict(G.out_degree),name='out_degree')"
   ]
  },
  {
   "cell_type": "code",
   "execution_count": 7,
   "id": "e3c3bee2",
   "metadata": {},
   "outputs": [],
   "source": [
    "def emails_weighted_metric(node_data:dict,metric_field_name:str,emails_weight:float = 1.0) -> float:\n",
    "    try:\n",
    "        return node_data[metric_field_name]+len(node_data['emails'])*emails_weight\n",
    "    except KeyError:\n",
    "        return 0"
   ]
  },
  {
   "cell_type": "code",
   "execution_count": 8,
   "id": "8cdfdcce",
   "metadata": {},
   "outputs": [],
   "source": [
    "def set_email_weighted_attribute(G:nx.Graph,attribute_name:str,weighted_attribute_name:Optional[str] = None,email_weight:float = 1.0):\n",
    "    if not weighted_attribute_name:\n",
    "        weighted_attribute_name = f\"email_weighted_{attribute_name}\"\n",
    "    for node_key,node_data in G.nodes(data=True):\n",
    "        email_weighted_att = emails_weighted_metric(node_data,metric_field_name=attribute_name,emails_weight=email_weight)\n",
    "        node_data[weighted_attribute_name] = email_weighted_att"
   ]
  },
  {
   "cell_type": "code",
   "execution_count": 9,
   "id": "53fcf9fc",
   "metadata": {},
   "outputs": [],
   "source": [
    "set_email_weighted_attribute(G,'in_degree') #this will add a new attribute named 'email_weighted_in_degree' for every node"
   ]
  },
  {
   "cell_type": "markdown",
   "id": "2953b661",
   "metadata": {},
   "source": [
    "### What are the most important URLs per domain (top 5) ?"
   ]
  },
  {
   "cell_type": "code",
   "execution_count": 14,
   "id": "c0b70c9b",
   "metadata": {},
   "outputs": [],
   "source": [
    "def get_top_n_important_urls_per_domain(domains_list:Iterable[str],importance_field:str,tie_breaker_field:Optional[str] = None,n:int =5) -> Dict[str,str]:\n",
    "    result_dict = {}\n",
    "    if not tie_breaker_field:\n",
    "        tie_breaker_field = importance_field\n",
    "    for domain in tqdm(domains_list):\n",
    "        domain_nodes_keys = list(search_nodes(G, {\"eq\": [(\"domain\",), domain]}))\n",
    "        sorted_domain_nodes_keys = sorted(domain_nodes_keys,key= lambda k:(G.nodes[k][importance_field],G.nodes[k][tie_breaker_field]),reverse=True)\n",
    "        result_dict[domain] = sorted_domain_nodes_keys[:n]\n",
    "    return result_dict"
   ]
  },
  {
   "cell_type": "code",
   "execution_count": 15,
   "id": "51b65da8",
   "metadata": {},
   "outputs": [],
   "source": [
    "all_domains = set()\n",
    "for _,node_data in G.nodes(data=True):\n",
    "    try:\n",
    "        domain:str = node_data['domain']\n",
    "        if len(domain)>1:\n",
    "            all_domains.add(domain)\n",
    "    except KeyError:\n",
    "        continue"
   ]
  },
  {
   "cell_type": "code",
   "execution_count": 16,
   "id": "f4d4874d",
   "metadata": {},
   "outputs": [
    {
     "data": {
      "application/vnd.jupyter.widget-view+json": {
       "model_id": "90622997318148de9f4928989e769519",
       "version_major": 2,
       "version_minor": 0
      },
      "text/plain": [
       "  0%|          | 0/4 [00:00<?, ?it/s]"
      ]
     },
     "metadata": {},
     "output_type": "display_data"
    },
    {
     "data": {
      "text/plain": [
       "{'wikipedia': ['https://en.wikipedia.org/wiki/Email_address',\n",
       "  'https://zh.wikipedia.org/wiki/%E9%9B%BB%E5%AD%90%E9%83%B5%E4%BB%B6%E5%9C%B0%E5%9D%80',\n",
       "  'https://uk.wikipedia.org/wiki/%D0%90%D0%B4%D1%80%D0%B5%D1%81%D0%B0_%D0%B5%D0%BB%D0%B5%D0%BA%D1%82%D1%80%D0%BE%D0%BD%D0%BD%D0%BE%D1%97_%D0%BF%D0%BE%D1%88%D1%82%D0%B8',\n",
       "  'https://fi.wikipedia.org/wiki/S%C3%A4hk%C3%B6posti',\n",
       "  'https://eu.wikipedia.org/wiki/Posta_elektroniko'],\n",
       " 'github': ['https://github.com/ietf-tools/datatracker/releases/tag/8.3.0',\n",
       "  'https://github.com/ietf-tools/datatracker/issues/new/choose',\n",
       "  'https://github.com/WDscholia/scholia',\n",
       "  'https://github.com/domenic/ecmarkdown',\n",
       "  'https://github.com/tc39/proposals/blob/HEAD/finished-proposals.md'],\n",
       " 'stackoverflow': ['https://stackoverflow.com/tags/email-address',\n",
       "  'https://stackoverflow.com/legal/cookie-policy',\n",
       "  'https://meta.stackoverflow.com/questions/418165/temporarily-pausing-the-site-satisfaction-survey',\n",
       "  'http://stackoverflow.com/questions/1335851/what-does-use-strict-do-in-javascript-and-what-is-the-reasoning-behind-it'],\n",
       " 'protonmail': ['https://protonmail.com/support/knowledge-base/paid-plans/',\n",
       "  'https://protonmail.com/business',\n",
       "  'https://protonmail.com/support/',\n",
       "  'https://protonmail.com/support',\n",
       "  'https://protonmail.com/support/knowledge-base/business/']}"
      ]
     },
     "execution_count": 16,
     "metadata": {},
     "output_type": "execute_result"
    }
   ],
   "source": [
    "get_top_n_important_urls_per_domain(['wikipedia','github','stackoverflow','protonmail'],importance_field='email_weighted_pagerank')"
   ]
  },
  {
   "cell_type": "markdown",
   "id": "8639cbee",
   "metadata": {},
   "source": [
    "Lets compare the above result with a normal page"
   ]
  },
  {
   "cell_type": "code",
   "execution_count": null,
   "id": "cd32d365",
   "metadata": {},
   "outputs": [],
   "source": [
    "top_5_imporant_urls_for_all_domains = get_top_n_important_urls_per_domain(all_domains,importance_field='email_weighted_pagerank',)"
   ]
  },
  {
   "cell_type": "code",
   "execution_count": null,
   "id": "3fde7d55",
   "metadata": {},
   "outputs": [],
   "source": []
  }
 ],
 "metadata": {
  "kernelspec": {
   "display_name": "Python 3 (ipykernel)",
   "language": "python",
   "name": "python3"
  },
  "language_info": {
   "codemirror_mode": {
    "name": "ipython",
    "version": 3
   },
   "file_extension": ".py",
   "mimetype": "text/x-python",
   "name": "python",
   "nbconvert_exporter": "python",
   "pygments_lexer": "ipython3",
   "version": "3.10.4"
  }
 },
 "nbformat": 4,
 "nbformat_minor": 5
}